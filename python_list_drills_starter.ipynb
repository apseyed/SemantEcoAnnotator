{
  "nbformat": 4,
  "nbformat_minor": 0,
  "metadata": {
    "kernelspec": {
      "display_name": "Python 3",
      "language": "python",
      "name": "python3"
    },
    "language_info": {
      "codemirror_mode": {
        "name": "ipython",
        "version": 3
      },
      "file_extension": ".py",
      "mimetype": "text/x-python",
      "name": "python",
      "nbconvert_exporter": "python",
      "pygments_lexer": "ipython3",
      "version": "3.7.0"
    },
    "colab": {
      "name": "python_list_drills_starter.ipynb",
      "provenance": [],
      "include_colab_link": true
    }
  },
  "cells": [
    {
      "cell_type": "markdown",
      "metadata": {
        "id": "view-in-github",
        "colab_type": "text"
      },
      "source": [
        "<a href=\"https://colab.research.google.com/github/apseyed/SemantEcoAnnotator/blob/master/python_list_drills_starter.ipynb\" target=\"_parent\"><img src=\"https://colab.research.google.com/assets/colab-badge.svg\" alt=\"Open In Colab\"/></a>"
      ]
    },
    {
      "cell_type": "markdown",
      "metadata": {
        "id": "e3B4YjximV_m",
        "colab_type": "text"
      },
      "source": [
        "## 1: `longest_word_length`\n",
        "\n",
        "Create a function called `longest_word` that takes one argument, a list of words, and returns the length of the longest word in the list.\n",
        "\n",
        "For example, `longest_word(['simple', 'is', 'better', 'than', 'complex'])` should return 7 because the longest word there is complex, at 7 characters.\n",
        "\n",
        "Your function should *not* modify the input list."
      ]
    },
    {
      "cell_type": "code",
      "metadata": {
        "id": "3z3RXJhsxZQY",
        "colab_type": "code",
        "colab": {
          "base_uri": "https://localhost:8080/",
          "height": 35
        },
        "outputId": "5905eac9-31ed-4312-8bc1-658878cf790a"
      },
      "source": [
        "# Returns the length of the longest word in the list\n",
        "def longest_word(word_list):\n",
        "  longest_word = ''\n",
        "  word_list = ['simple', 'is', 'better', 'than', 'complex']\n",
        "\n",
        "  for word in word_list:\n",
        "    if len(longest_word) < len(word):\n",
        "      longest_word = word\n",
        "\n",
        "  return (len(longest_word))    \n",
        "\n",
        "longest_word(['simple', 'is', 'better', 'than', 'complex'])\n"
      ],
      "execution_count": null,
      "outputs": [
        {
          "output_type": "execute_result",
          "data": {
            "text/plain": [
              "7"
            ]
          },
          "metadata": {
            "tags": []
          },
          "execution_count": 2
        }
      ]
    },
    {
      "cell_type": "markdown",
      "metadata": {
        "id": "Y-Z4yRL8mV_y",
        "colab_type": "text"
      },
      "source": [
        "## 2: `calculate_grade`\n",
        "\n",
        "You're a statistics professor and the deadline for submitting your students' grades is tonight at midnight. Each student's grade is determined by their mean score across all of the tests they took this semester.\n",
        "\n",
        "You've decided to automate grade calculation by writing a function `calculate_grade` that takes a list of test scores as an argument and returns a one character string representing the student's grade calculated as follows:\n",
        "\n",
        "```\n",
        "90% <= mean score <= 100%: \"A\",\n",
        "80% <= mean score < 90%: \"B\",\n",
        "70% <= mean score < 80%: \"C\",\n",
        "60% <= mean score < 70%: \"D\",\n",
        "mean score < 60%: \"F\"\n",
        "```\n",
        "\n",
        "\n",
        "For example, `calculate_grade([92, 94, 99])` would return \"A\" since the mean score is 95, and `calculate_grade([50, 60, 70, 80, 90])` would return \"C\" since the mean score is 70.\n",
        "\n",
        "Your function should handle an input list of any length greater than zero."
      ]
    },
    {
      "cell_type": "code",
      "metadata": {
        "id": "B3WGWgUgXw4T",
        "colab_type": "code",
        "colab": {
          "base_uri": "https://localhost:8080/",
          "height": 35
        },
        "outputId": "44460967-e401-455f-e7f8-6da3c435672e"
      },
      "source": [
        "# Automates grade calculation and returns a letter grade \n",
        "def calculate_grade(test_scores):\n",
        "  for score in test_scores:\n",
        "    sum_test_scores = sum(test_scores)\n",
        "    ave_test_scores = sum_test_scores / len(test_scores)\n",
        "    result = ave_test_scores\n",
        "    if 90 <= result <= 100:\n",
        "       return \"A\" \n",
        "    elif 80 <= result < 90:\n",
        "       return \"B\"\n",
        "    elif 70 <= result < 80:\n",
        "       return \"C\"\n",
        "    elif 60 <= result < 70:\n",
        "       return \"D\"\n",
        "    else: \n",
        "       return \"F\" \n",
        "print (calculate_grade([92, 94, 99]) )"
      ],
      "execution_count": null,
      "outputs": [
        {
          "output_type": "stream",
          "text": [
            "A\n"
          ],
          "name": "stdout"
        }
      ]
    },
    {
      "cell_type": "markdown",
      "metadata": {
        "id": "_VPwAR4MmV_6",
        "colab_type": "text"
      },
      "source": [
        "## 3: `process_data`\n",
        "\n",
        "You have a two-dimensional list in the following format:\n",
        "\n",
        "```python\n",
        "data = [[2, 5], [3, 4], [8, 7]]\n",
        "```\n",
        "\n",
        "Each sub-list contains two items, and each item in the sub-lists is an integer.\n",
        "\n",
        "Write a function `process_data` that processes each sub-list like so:\n",
        "\n",
        "```\n",
        "[2, 5] --> 2 - 5 --> -3\n",
        "[3, 4] --> 3 - 4 --> -1\n",
        "[8, 7] --> 8 - 7 --> 1\n",
        "```\n",
        "\n",
        "and then returns the product of all the processed sub-lists: -3 * -1 * 1 --> 3.\n",
        "d\n",
        "For input, you can trust that neither the main list nor the sublists will be empty."
      ]
    },
    {
      "cell_type": "code",
      "metadata": {
        "id": "Ys28_e_ADIKp",
        "colab_type": "code",
        "colab": {
          "base_uri": "https://localhost:8080/",
          "height": 35
        },
        "outputId": "25cbadd3-e649-45a8-f370-b475ec352e1c"
      },
      "source": [
        "# First function finds the difference between values in nested list \n",
        "# and second function multiplies those differences together\n",
        "\n",
        "data = [[2, 5], [3, 4], [8, 7]]\n",
        "\n",
        "def find_difference(data):\n",
        "  sublist = [x - y for x, y in data]\n",
        "  return(sublist)\n",
        "def process_data(data):\n",
        "  total = 1\n",
        "  sublist = find_difference(data)\n",
        "  for x in sublist:\n",
        "    total *= x\n",
        "  return total\n",
        "process_data(data)  "
      ],
      "execution_count": null,
      "outputs": [
        {
          "output_type": "execute_result",
          "data": {
            "text/plain": [
              "3"
            ]
          },
          "metadata": {
            "tags": []
          },
          "execution_count": 57
        }
      ]
    }
  ]
}